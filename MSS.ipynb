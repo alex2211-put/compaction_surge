{
 "cells": [
  {
   "cell_type": "code",
   "execution_count": 145,
   "metadata": {},
   "outputs": [],
   "source": [
    "import warnings\n",
    "\n",
    "warnings.filterwarnings('ignore')"
   ]
  },
  {
   "cell_type": "markdown",
   "metadata": {},
   "source": [
    "# Основные предположения: \n",
    "* Газ совершенный ($\\gamma = const$)\n",
    "* Газ полностью диссоциирует при переходе через фронт"
   ]
  },
  {
   "cell_type": "code",
   "execution_count": 2,
   "metadata": {},
   "outputs": [],
   "source": [
    "from math import sqrt\n",
    "from sympy import *\n",
    "import matplotlib.pyplot as plt\n",
    "import numpy as np\n",
    "from ipywidgets import interact_manual"
   ]
  },
  {
   "cell_type": "markdown",
   "metadata": {},
   "source": [
    "## Основные уравнения"
   ]
  },
  {
   "cell_type": "markdown",
   "metadata": {},
   "source": [
    "$$\\rho_1 v_1 = \\rho_2 v_2 \\;\\; - \\;\\; \\text{баланс массы}$$ "
   ]
  },
  {
   "cell_type": "markdown",
   "metadata": {},
   "source": [
    "$$p_1 + \\rho_1v_1^2 = p_2 + \\rho_2 v_2^2 \\;\\;-\\;\\; \\text{сохранение импульса}$$"
   ]
  },
  {
   "cell_type": "markdown",
   "metadata": {},
   "source": [
    "$$\\frac{v_1^2}{2} + (\\frac{\\gamma_1}{\\gamma_1 - 1})\\frac{p_1}{\\rho_1} = \\frac{v_2^2}{2} + (\\frac{\\gamma_2}{\\gamma_2 - 1})\\frac{p_2}{\\rho_2} \\;\\; - \\;\\; \\text{Интеграл Бернулли}$$"
   ]
  },
  {
   "cell_type": "markdown",
   "metadata": {},
   "source": [
    "$$ (\\varepsilon_1 - \\varepsilon_2) + \\frac{1}{2}(p_2+p_1)(\\frac{1}{\\rho_1} - \\frac{1}{\\rho_2}) = 0 \\;\\; - \\;\\; \\text{Адиабата Гюгонио}$$"
   ]
  },
  {
   "cell_type": "markdown",
   "metadata": {},
   "source": [
    "$$M_i = \\frac{v_i}{a_i} \\;\\; - \\;\\; \\text{Число маха}$$"
   ]
  },
  {
   "cell_type": "markdown",
   "metadata": {},
   "source": [
    "$$ a = \\sqrt{\\frac{\\gamma p}{\\rho}} \\;\\; - \\;\\; \\text{Скорость звука}$$"
   ]
  },
  {
   "cell_type": "code",
   "execution_count": 3,
   "metadata": {},
   "outputs": [],
   "source": [
    "# начальные данные\n",
    "M1 = 5\n",
    "p1 = 1*10**5\n",
    "rho1 = 1.12\n",
    "gamma1 = 7/5\n",
    "v1 = M1 * sqrt(gamma1*p1/rho1)\n",
    "mol = 0.028"
   ]
  },
  {
   "cell_type": "code",
   "execution_count": 4,
   "metadata": {},
   "outputs": [],
   "source": [
    "p2, rho2, v2 = symbols('p2 rho2 v2')"
   ]
  },
  {
   "cell_type": "code",
   "execution_count": 6,
   "metadata": {},
   "outputs": [],
   "source": [
    "def solve_eq(M1, gamma2):\n",
    "    hi1 = gamma1/(gamma1 - 1)\n",
    "    hi2 = gamma2/(gamma2 - 1)\n",
    "    v1 = M1 * sqrt(gamma1*p1/rho1)\n",
    "    ans = nonlinsolve([Eq(rho1*v1, rho2*v2), Eq(p1 + rho1*v1**2, p2 + rho2*v2**2), Eq(1/(gamma1 - 1)*p1/rho1 - 1/(gamma2 - 1)*p2/rho2 + 0.5*(p1 + p2)*(1/rho1 - 1/rho2),)], (p2, rho2, v2))\n",
    "    return ans"
   ]
  },
  {
   "cell_type": "markdown",
   "metadata": {},
   "source": [
    "## Постороим графики для модели, не учитывающей диссоциацию"
   ]
  },
  {
   "cell_type": "code",
   "execution_count": 149,
   "metadata": {
    "scrolled": false
   },
   "outputs": [
    {
     "data": {
      "application/vnd.jupyter.widget-view+json": {
       "model_id": "cb1d78ccc9454b37815a318a914a84fe",
       "version_major": 2,
       "version_minor": 0
      },
      "text/plain": [
       "interactive(children=(FloatSlider(value=11.200000000000001, description='M1', max=20.0, min=2.5), Button(descr…"
      ]
     },
     "metadata": {},
     "output_type": "display_data"
    }
   ],
   "source": [
    "@interact_manual(M1=(2.5, 20, 0.1))\n",
    "def plot_m(M1):\n",
    "    x = np.linspace(-1, 1, 500)\n",
    "\n",
    "    gamm2 = 5/3\n",
    "    ans = solve_eq(M1, gamm2)\n",
    "    ans2 = solve_eq(M1, 7/5)\n",
    "\n",
    "    plt.figure(figsize=(15, 15))\n",
    "    ax = plt.subplot(321)\n",
    "    plt.plot(x, [p1] * (len(x)//2) + [ans2.args[1][0]]*(len(x)//2))\n",
    "    plt.title('давление без распада Гюгонио')\n",
    "    plt.ylabel('Давление, Па')\n",
    "    plt.text(-1, 600000, \"$p_0 = ${} $*10^5$\".format(p1/10**5))\n",
    "    plt.text(0.1, 500000, \"$p_1 = ${} $*10^5$\".format(round(ans2.args[1][0] /10**5, 2)))\n",
    "\n",
    "\n",
    "\n",
    "    plt.subplot(322)\n",
    "    plt.plot(x, [rho1] * (len(x)//2) + [ans2.args[1][1]]*(len(x)//2))\n",
    "    plt.title('Плотность без распада Гюгонио')\n",
    "    plt.ylabel('Плотность, $кг/м^3$')\n",
    "    plt.text(-1, 3, \"$rho _0 = ${}\".format(rho1))\n",
    "    plt.text(0.1, 2, \"$rho _1 = ${} \".format(round(ans2.args[1][1], 2)))\n",
    "\n",
    "    plt.subplot(3, 2, 3)\n",
    "    plt.plot(x, [v1] * (len(x)//2) + [ans2.args[1][2]]*(len(x)//2), label='Скорость потока')\n",
    "    plt.plot(x, [sqrt(gamma1*p1/rho1)] * (len(x)//2) + [sqrt(gamma1*ans2.args[1][0]/ans2.args[1][1])] * (len(x)//2), label='Скорость звука')\n",
    "    plt.title('Скорость без распада Гюгонио')\n",
    "    plt.ylabel('Скорость, м/c')\n",
    "    plt.text(-1, 600, \"$v _0 = ${}\".format(round(v1, 2)))\n",
    "    plt.legend()\n",
    "    plt.text(0.1, 1000, \"$v _1 = ${} \".format(round(ans2.args[1][2], 2)))\n",
    "   \n",
    "\n",
    "    plt.subplot(3, 2, 4)\n",
    "    plt.plot(x, [p1*mol/(8.31*rho1)] * (len(x)//2) + [ans2.args[1][0]*mol/(8.31*ans2.args[1][1])]*(len(x)//2))\n",
    "    plt.title('Температура без распада Гюгонио')\n",
    "    plt.ylabel('Температура, К')\n",
    "    plt.text(-1, 1000, \"$T _0 = ${}\".format(round(p1*mol/(8.31*rho1), 2)))\n",
    "    plt.text(0.1, 600, \"$T _1 = ${} \".format(round(ans2.args[1][0]*mol/(8.31*ans2.args[1][1]), 2)))\n",
    "\n",
    "\n",
    "    plt.subplot(3, 2, 5)\n",
    "    plt.plot(x, [M1] * (len(x)//2) + [ans2.args[1][2] / sqrt(gamma1*ans2.args[1][0]/ans2.args[1][1])]*(len(x)//2))\n",
    "    plt.title('числа маха без распада Гюгонио')\n",
    "    plt.text(-1, 2.5, \"$M _0 = ${}\".format(round(M1, 2)))\n",
    "    plt.text(0.1, 1, \"$M _1 = ${} \".format(round(ans2.args[1][2] / sqrt(gamma1*ans2.args[1][0]/ans2.args[1][1]), 2)))\n",
    "\n",
    "    plt.show()\n"
   ]
  },
  {
   "cell_type": "markdown",
   "metadata": {},
   "source": [
    "## Построим зависимости параметров от маха для этой модели"
   ]
  },
  {
   "cell_type": "code",
   "execution_count": 150,
   "metadata": {},
   "outputs": [],
   "source": [
    "r_p = []\n",
    "r_t1 = []\n",
    "r_rho = []\n",
    "r_v = []\n",
    "for x in np.arange(2.5, 13, 0.1):\n",
    "    ans = solve_eq(x, 7/5)\n",
    "    r_p.append(ans.args[1][0])\n",
    "    r_t1.append(ans.args[1][0]*mol/(8.31*ans.args[1][1]))\n",
    "    r_rho.append(ans.args[1][1])\n",
    "    r_v.append(ans.args[1][2])"
   ]
  },
  {
   "cell_type": "code",
   "execution_count": 9,
   "metadata": {},
   "outputs": [
    {
     "data": {
      "image/png": "[encoded data removed]",
      "text/plain": [
       "<Figure size 1080x504 with 2 Axes>"
      ]
     },
     "metadata": {
      "needs_background": "light"
     },
     "output_type": "display_data"
    }
   ],
   "source": [
    "plt.figure(figsize=(15, 7))\n",
    "plt.subplot(121)\n",
    "plt.plot(l_100, np.array(r_p)/100000, label='P, атм')\n",
    "plt.plot(l_100, r_t, label='T, К')\n",
    "plt.plot(l_100, r_rho, label='$rho$, кг/$m^3$', color='green')\n",
    "plt.plot(l_100, r_v, label='v, м/с', color='red')\n",
    "plt.legend()\n",
    "plt.grid(True)\n",
    "plt.xlabel('Число маха М')\n",
    "plt.title('Зависимость параметров за скачком от маха')\n",
    "\n",
    "\n",
    "plt.subplot(122)\n",
    "plt.plot(l_100, np.array(r_p)/100000, label='P, атм')\n",
    "plt.plot(l_100, r_rho, label='$rho$, кг/$m^3$', color='green')\n",
    "plt.legend()\n",
    "plt.grid(True)\n",
    "plt.title('Зависимость параметров за скачком от маха')\n",
    "plt.xlabel('Число маха М')\n",
    "plt.show()"
   ]
  },
  {
   "cell_type": "markdown",
   "metadata": {},
   "source": [
    "# Модель с диссоциацией"
   ]
  },
  {
   "cell_type": "code",
   "execution_count": 151,
   "metadata": {
    "scrolled": true
   },
   "outputs": [
    {
     "data": {
      "text/latex": [
       "$\\displaystyle \\left( 26233333.3333334, \\  6.57391304347826, \\  903.525331516144\\right)$"
      ],
      "text/plain": [
       "(26233333.3333334, 6.57391304347826, 903.525331516144)"
      ]
     },
     "execution_count": 151,
     "metadata": {},
     "output_type": "execute_result"
    }
   ],
   "source": [
    "ans = solve_eq(15, 7/5) # p, rho, v\n",
    "ans.args[1]"
   ]
  },
  {
   "cell_type": "markdown",
   "metadata": {},
   "source": [
    "Эмперические данные"
   ]
  },
  {
   "cell_type": "code",
   "execution_count": 152,
   "metadata": {},
   "outputs": [],
   "source": [
    "diss = {4500: 0.0001, 5000: 0.05, 5500: 0.13, 5750: 0.2, 6000: 0.255, 6250: 0.35, 6500: 0.45, 6750: 0.56, 7000: 0.66, 7250: 0.75, 7500: 0.81, 7750: 0.85, 8000: 0.9, 8500: 0.95, 10000: 1} # T: \\alpha"
   ]
  },
  {
   "cell_type": "markdown",
   "metadata": {},
   "source": []
  },
  {
   "cell_type": "code",
   "execution_count": 128,
   "metadata": {},
   "outputs": [],
   "source": [
    "N = 6.02*10**23  # Число Авогадро\n",
    "T_start = 4500  # температура с которой начинается распад молекул\n",
    "diss_mol_once = 1e19  # число диссоциирующих молекул за раз - отвечает за шаг расчета, начинает 1e9\n",
    "T = float(ans.args[1][0])*mol/(8.31*float(ans.args[1][1]))\n",
    "count_mol = float(ans.args[1][1])/mol * N\n",
    "count_atom = 0\n",
    "nu = float(ans.args[1][1])/mol\n",
    "nu_ = 0\n",
    "R = 8.31\n",
    "dT = 942000/N * diss_mol_once"
   ]
  },
  {
   "cell_type": "code",
   "execution_count": 129,
   "metadata": {},
   "outputs": [
    {
     "data": {
      "text/plain": [
       "13445.796378006613"
      ]
     },
     "execution_count": 129,
     "metadata": {},
     "output_type": "execute_result"
    }
   ],
   "source": [
    "T"
   ]
  },
  {
   "cell_type": "code",
   "execution_count": 130,
   "metadata": {
    "scrolled": true
   },
   "outputs": [
    {
     "name": "stdout",
     "output_type": "stream",
     "text": [
      "6499.998432073813\n",
      "Tkon = 6499.998432073813, alpha = 0.39000147531297696\n"
     ]
    }
   ],
   "source": [
    "alpha = 0\n",
    "alpha0 = 1\n",
    "while T > T_start and count_mol > 0:\n",
    "    i = 5 if T < 3340 else 7\n",
    "    U = (i/2*R*T*nu + 3/2*R*T*nu_ - dT)  # вычисление уменьшения температуры для шага молекул\n",
    "    count_atom += diss_mol_once\n",
    "    count_mol -= diss_mol_once\n",
    "    T = U/(i/2*R*count_mol/N + 3/2*R*count_atom/N)\n",
    "    nu = count_mol / N\n",
    "    nu_ = count_atom / N\n",
    "    alpha = count_atom*2 / (count_atom*2 + count_mol)  # вычисляем степень диссоциации\n",
    "    for j in range(len(list(diss.keys())) - 1):\n",
    "        if list(diss.keys())[j] < T < list(diss.keys())[j + 1]:\n",
    "            alpha0 = diss[list(diss.keys())[j]]\n",
    "            break\n",
    "    if alpha > alpha0:\n",
    "        print(T)\n",
    "        break\n",
    "print('Tkon = {}, alpha = {}'.format(T, alpha))"
   ]
  },
  {
   "cell_type": "code",
   "execution_count": 131,
   "metadata": {},
   "outputs": [],
   "source": [
    "V = 1\n",
    "nu = count_mol / N\n",
    "nu_ = count_atom / N\n",
    "gamma = 9/7\n",
    "gamma3 = alpha*3/2 + (1 - alpha)*gamma"
   ]
  },
  {
   "cell_type": "markdown",
   "metadata": {},
   "source": [
    "## Параметры за скачком"
   ]
  },
  {
   "cell_type": "code",
   "execution_count": 132,
   "metadata": {},
   "outputs": [
    {
     "name": "stdout",
     "output_type": "stream",
     "text": [
      "M2 = 1.41497657585387, p2 = 17.72*10^5, rho2 = 0.81, T2 = 6500.0, alpha = 39.0%\n"
     ]
    }
   ],
   "source": [
    "p = float(ans.args[1][0])\n",
    "V1 = (p*V**gamma/(nu+nu_)*1/(R*T))**(1/(gamma3-1)) # для адиабатической ставить 1 вместо выражения\n",
    "\n",
    "p_sum = (nu+nu_)*R*T/V1\n",
    "\n",
    "rho_sum = (nu*0.028 + nu_*0.014)/V1\n",
    "\n",
    "v3 = rho1*v1/rho_sum\n",
    "M2 = v3/sqrt(gamma3*p_sum/rho_sum)\n",
    "\n",
    "print('M2 = {}, p2 = {}*10^5, rho2 = {}, T2 = {}, alpha = {}%'.format(M2, round(p_sum/10**5, 2), round(rho_sum, 2), round(T, 2), round(alpha*100, 2)))"
   ]
  },
  {
   "cell_type": "code",
   "execution_count": 74,
   "metadata": {},
   "outputs": [
    {
     "name": "stderr",
     "output_type": "stream",
     "text": [
      "C:\\Users\\honor\\anaconda3\\lib\\site-packages\\sympy\\core\\relational.py:486: SymPyDeprecationWarning: \n",
      "\n",
      "Eq(expr) with rhs default to 0 has been deprecated since SymPy 1.5.\n",
      "Use Eq(expr, 0) instead. See\n",
      "https://github.com/sympy/sympy/issues/16587 for more info.\n",
      "\n",
      "  SymPyDeprecationWarning(\n"
     ]
    }
   ],
   "source": [
    "r_p = []\n",
    "r_t = []\n",
    "r_rho = []\n",
    "r_v = []\n",
    "for x in np.arange(2.5, 13, 0.1):\n",
    "    v1 = M1 * sqrt(gamma1*p1/rho1)\n",
    "    ans = solve_eq(x, 7/5) # p, rho, v\n",
    "    diss_mol_once = 1e19 # число диссоциирующих молекул за раз - отвечает за шаг расчета, начинает 1e9\n",
    "    T = float(ans.args[1][0])*mol/(8.31*float(ans.args[1][1]))\n",
    "    count_mol = float(ans.args[1][1])/mol * N\n",
    "    count_atom = 0\n",
    "    nu = float(ans.args[1][1])/mol\n",
    "    nu_ = 0\n",
    "    dT = 942000/N * diss_mol_once\n",
    "    alpha = 0\n",
    "    alpha0 = 1\n",
    "    while T > T_start and count_mol > 0:\n",
    "        i = 5 if T < 3340 else 7\n",
    "        U = (i/2*R*T*nu + 3/2*R*T*nu_ - dT)  # вычисление уменьшения температуры для шага молекул\n",
    "        count_atom += diss_mol_once\n",
    "        count_mol -= diss_mol_once\n",
    "        T = U/(i/2*R*count_mol/N + 3/2*R*count_atom/N)\n",
    "        nu = count_mol / N\n",
    "        nu_ = count_atom / N\n",
    "        alpha = count_atom*2 / (count_atom*2 + count_mol)  # вычисляем степень диссоциации\n",
    "        for j in range(len(list(diss.keys())) - 1):\n",
    "            if list(diss.keys())[j] < T < list(diss.keys())[j + 1]:\n",
    "                alpha0 = diss[list(diss.keys())[j]]\n",
    "                break\n",
    "        if alpha > alpha0:\n",
    "            break\n",
    "    p = float(ans.args[1][0])\n",
    "    V = 1\n",
    "    nu = count_mol / N\n",
    "    nu_ = count_atom / N\n",
    "    gamma = 9/7\n",
    "    gamma3 = alpha*3/2 + (1 - alpha)*gamma\n",
    "    V1 = (p*V**gamma/(nu+nu_)*1/(R*T))**(1/(gamma3-1))  # для адиабатической ставить 1 вместо выражения\n",
    "\n",
    "    p_sum = (nu+nu_)*R*T/V1\n",
    "\n",
    "    rho_sum = (nu*0.028 + nu_*0.014)/V1\n",
    "\n",
    "    v4 = rho1*v1/rho_sum\n",
    "    M2 = v4/sqrt(gamma3*p_sum/rho_sum)\n",
    "    r_p.append(p_sum)\n",
    "    r_t.append(T)\n",
    "    r_rho.append(rho_sum)\n",
    "    r_v.append(v4)"
   ]
  },
  {
   "cell_type": "code",
   "execution_count": 75,
   "metadata": {},
   "outputs": [
    {
     "data": {
      "image/png": "[encoded data removed]",
      "text/plain": [
       "<Figure size 1080x432 with 2 Axes>"
      ]
     },
     "metadata": {
      "needs_background": "light"
     },
     "output_type": "display_data"
    }
   ],
   "source": [
    "l_100 = np.linspace(2.5, 13, 105)\n",
    "plt.figure(figsize=(15, 6))\n",
    "plt.subplot(121)\n",
    "plt.plot(l_100, np.array(r_p)/100000, label='P, атм')\n",
    "plt.plot(l_100, r_t, label='T, К')\n",
    "plt.plot(l_100, r_rho, label='$rho$, кг/$m^3$', color='green')\n",
    "plt.plot(l_100, r_v, label='v, м/с', color='red')\n",
    "plt.legend()\n",
    "plt.grid(True)\n",
    "plt.xlabel('Число маха М')\n",
    "plt.title('Зависимость параметров за скачком от маха')\n",
    "\n",
    "\n",
    "plt.subplot(122)\n",
    "plt.plot(l_100, np.array(r_p)/100000, label='P, атм')\n",
    "plt.plot(l_100, r_rho, label='$rho$, кг/$m^3$', color='green')\n",
    "plt.legend()\n",
    "plt.grid(True)\n",
    "plt.title('Зависимость параметров за скачком от маха')\n",
    "plt.xlabel('Число маха М')\n",
    "plt.show()"
   ]
  },
  {
   "cell_type": "code",
   "execution_count": 142,
   "metadata": {},
   "outputs": [
    {
     "name": "stderr",
     "output_type": "stream",
     "text": [
      "C:\\Users\\honor\\anaconda3\\lib\\site-packages\\sympy\\core\\relational.py:486: SymPyDeprecationWarning: \n",
      "\n",
      "Eq(expr) with rhs default to 0 has been deprecated since SymPy 1.5.\n",
      "Use Eq(expr, 0) instead. See\n",
      "https://github.com/sympy/sympy/issues/16587 for more info.\n",
      "\n",
      "  SymPyDeprecationWarning(\n"
     ]
    }
   ],
   "source": [
    "p1 = 1*10**5\n",
    "rho1 = 1.12\n",
    "gamma1 = 7/5\n",
    "v1 = M1 * sqrt(gamma1*p1/rho1)\n",
    "mol = 0.028\n",
    "p2, rho2, v2 = symbols('p2 rho2 v2')\n",
    "r_p = []\n",
    "r_t1 = []\n",
    "r_rho = []\n",
    "r_v = []\n",
    "for x in np.arange(2.5, 13, 0.1):\n",
    "    ans = solve_eq(x, 7/5)\n",
    "    r_p.append(ans.args[1][0])\n",
    "    r_t1.append(ans.args[1][0]*mol/(8.31*ans.args[1][1]))\n",
    "    r_rho.append(ans.args[1][1])\n",
    "    r_v.append(ans.args[1][2])"
   ]
  },
  {
   "cell_type": "code",
   "execution_count": 144,
   "metadata": {},
   "outputs": [
    {
     "data": {
      "image/png": "[encoded data removed]",
      "text/plain": [
       "<Figure size 720x432 with 1 Axes>"
      ]
     },
     "metadata": {
      "needs_background": "light"
     },
     "output_type": "display_data"
    }
   ],
   "source": [
    "l_100 = np.linspace(2.5, 13, 105)\n",
    "plt.figure(figsize=(10, 6))\n",
    "plt.plot(l_100, r_t1, label='без диссоциации, T, К')\n",
    "plt.plot(l_100, r_t, label='с диссоциацией, Т, К')\n",
    "plt.legend()\n",
    "plt.grid(True)\n",
    "plt.xlabel('Число маха М')\n",
    "plt.title('Зависимость температуры за скачком от маха')\n",
    "plt.show()"
   ]
  },
  {
   "cell_type": "code",
   "execution_count": null,
   "metadata": {},
   "outputs": [],
   "source": []
  }
 ],
 "metadata": {
  "kernelspec": {
   "display_name": "Python 3",
   "language": "python",
   "name": "python3"
  },
  "language_info": {
   "codemirror_mode": {
    "name": "ipython",
    "version": 3
   },
   "file_extension": ".py",
   "mimetype": "text/x-python",
   "name": "python",
   "nbconvert_exporter": "python",
   "pygments_lexer": "ipython3",
   "version": "3.8.5"
  }
 },
 "nbformat": 4,
 "nbformat_minor": 4
}
